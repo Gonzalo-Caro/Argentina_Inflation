{
 "cells": [
  {
   "cell_type": "code",
   "execution_count": 46,
   "metadata": {},
   "outputs": [],
   "source": [
    "import pandas as pd\n",
    "import numpy as np\n",
    "archivo = 'csv_creados/Arg_MonetaryAgregates.csv'\n",
    "df = pd.read_csv(archivo)"
   ]
  },
  {
   "cell_type": "markdown",
   "metadata": {},
   "source": [
    "#### GDP"
   ]
  },
  {
   "cell_type": "markdown",
   "metadata": {},
   "source": [
    "GDP : Gross Domestic Product"
   ]
  },
  {
   "cell_type": "markdown",
   "metadata": {},
   "source": [
    "#### Añadimos a nuestro Data Frame el GDP en términos nominales"
   ]
  },
  {
   "cell_type": "code",
   "execution_count": 47,
   "metadata": {},
   "outputs": [],
   "source": [
    "archivo = 'Data_in/GDP_F.xlsx'\n",
    "gdp = pd.read_excel(archivo)"
   ]
  },
  {
   "cell_type": "code",
   "execution_count": 48,
   "metadata": {},
   "outputs": [
    {
     "data": {
      "text/html": [
       "<div>\n",
       "<style scoped>\n",
       "    .dataframe tbody tr th:only-of-type {\n",
       "        vertical-align: middle;\n",
       "    }\n",
       "\n",
       "    .dataframe tbody tr th {\n",
       "        vertical-align: top;\n",
       "    }\n",
       "\n",
       "    .dataframe thead th {\n",
       "        text-align: right;\n",
       "    }\n",
       "</style>\n",
       "<table border=\"1\" class=\"dataframe\">\n",
       "  <thead>\n",
       "    <tr style=\"text-align: right;\">\n",
       "      <th></th>\n",
       "      <th>Año</th>\n",
       "      <th>divisa</th>\n",
       "      <th>M0</th>\n",
       "      <th>M1</th>\n",
       "      <th>M2</th>\n",
       "      <th>M3</th>\n",
       "      <th>GDP (current LCU)</th>\n",
       "    </tr>\n",
       "  </thead>\n",
       "  <tbody>\n",
       "    <tr>\n",
       "      <th>0</th>\n",
       "      <td>1959-12-31</td>\n",
       "      <td>Pesos</td>\n",
       "      <td>0.011898</td>\n",
       "      <td>0.016804</td>\n",
       "      <td>0.020309</td>\n",
       "      <td>0.021351</td>\n",
       "      <td>0.131509</td>\n",
       "    </tr>\n",
       "    <tr>\n",
       "      <th>1</th>\n",
       "      <td>1960-12-31</td>\n",
       "      <td>Pesos</td>\n",
       "      <td>0.014366</td>\n",
       "      <td>0.021707</td>\n",
       "      <td>0.026134</td>\n",
       "      <td>0.027830</td>\n",
       "      <td>0.166807</td>\n",
       "    </tr>\n",
       "    <tr>\n",
       "      <th>2</th>\n",
       "      <td>1961-12-31</td>\n",
       "      <td>Pesos</td>\n",
       "      <td>0.014144</td>\n",
       "      <td>0.024082</td>\n",
       "      <td>0.029302</td>\n",
       "      <td>0.031751</td>\n",
       "      <td>0.213136</td>\n",
       "    </tr>\n",
       "    <tr>\n",
       "      <th>3</th>\n",
       "      <td>1962-12-31</td>\n",
       "      <td>Pesos</td>\n",
       "      <td>0.015288</td>\n",
       "      <td>0.024283</td>\n",
       "      <td>0.030303</td>\n",
       "      <td>0.033137</td>\n",
       "      <td>0.253471</td>\n",
       "    </tr>\n",
       "    <tr>\n",
       "      <th>4</th>\n",
       "      <td>1963-12-31</td>\n",
       "      <td>Pesos</td>\n",
       "      <td>0.021007</td>\n",
       "      <td>0.030905</td>\n",
       "      <td>0.039715</td>\n",
       "      <td>0.043840</td>\n",
       "      <td>0.359472</td>\n",
       "    </tr>\n",
       "  </tbody>\n",
       "</table>\n",
       "</div>"
      ],
      "text/plain": [
       "         Año divisa        M0        M1        M2        M3  GDP (current LCU)\n",
       "0 1959-12-31  Pesos  0.011898  0.016804  0.020309  0.021351           0.131509\n",
       "1 1960-12-31  Pesos  0.014366  0.021707  0.026134  0.027830           0.166807\n",
       "2 1961-12-31  Pesos  0.014144  0.024082  0.029302  0.031751           0.213136\n",
       "3 1962-12-31  Pesos  0.015288  0.024283  0.030303  0.033137           0.253471\n",
       "4 1963-12-31  Pesos  0.021007  0.030905  0.039715  0.043840           0.359472"
      ]
     },
     "execution_count": 48,
     "metadata": {},
     "output_type": "execute_result"
    }
   ],
   "source": [
    "gdp['Año'] = pd.to_datetime(gdp['Año'].astype(str) + '1231', format='%Y%m%d')\n",
    "df['Año'] = pd.to_datetime(df['Año'])\n",
    "df = pd.merge(df,gdp, on='Año', suffixes=('_df', '_gdp'))\n",
    "df.head()"
   ]
  },
  {
   "cell_type": "markdown",
   "metadata": {},
   "source": [
    "### CPI"
   ]
  },
  {
   "cell_type": "markdown",
   "metadata": {},
   "source": [
    "CPI : Consumer price index"
   ]
  },
  {
   "cell_type": "markdown",
   "metadata": {},
   "source": [
    "#### Añadimos a nuestro Data Frame el CPI en número indice con año base 2016"
   ]
  },
  {
   "cell_type": "code",
   "execution_count": 49,
   "metadata": {},
   "outputs": [],
   "source": [
    "archivo = 'Data_in/cpi_argentina2.xls'\n",
    "cpi = pd.read_excel(archivo)\n",
    "df = pd.merge(df,cpi, on='Año', suffixes=('_df_inflation', '_cpi'))\n"
   ]
  },
  {
   "cell_type": "code",
   "execution_count": 50,
   "metadata": {},
   "outputs": [
    {
     "data": {
      "text/html": [
       "<div>\n",
       "<style scoped>\n",
       "    .dataframe tbody tr th:only-of-type {\n",
       "        vertical-align: middle;\n",
       "    }\n",
       "\n",
       "    .dataframe tbody tr th {\n",
       "        vertical-align: top;\n",
       "    }\n",
       "\n",
       "    .dataframe thead th {\n",
       "        text-align: right;\n",
       "    }\n",
       "</style>\n",
       "<table border=\"1\" class=\"dataframe\">\n",
       "  <thead>\n",
       "    <tr style=\"text-align: right;\">\n",
       "      <th></th>\n",
       "      <th>Año</th>\n",
       "      <th>divisa</th>\n",
       "      <th>M0</th>\n",
       "      <th>M1</th>\n",
       "      <th>M2</th>\n",
       "      <th>M3</th>\n",
       "      <th>GDP (current LCU)</th>\n",
       "      <th>CPI (2016 = Base Yr)</th>\n",
       "    </tr>\n",
       "  </thead>\n",
       "  <tbody>\n",
       "    <tr>\n",
       "      <th>0</th>\n",
       "      <td>1959-12-31</td>\n",
       "      <td>Pesos</td>\n",
       "      <td>0.011898</td>\n",
       "      <td>0.016804</td>\n",
       "      <td>0.020309</td>\n",
       "      <td>0.021351</td>\n",
       "      <td>0.131509</td>\n",
       "      <td>1.448536e-11</td>\n",
       "    </tr>\n",
       "    <tr>\n",
       "      <th>1</th>\n",
       "      <td>1960-12-31</td>\n",
       "      <td>Pesos</td>\n",
       "      <td>0.014366</td>\n",
       "      <td>0.021707</td>\n",
       "      <td>0.026134</td>\n",
       "      <td>0.027830</td>\n",
       "      <td>0.166807</td>\n",
       "      <td>1.707203e-11</td>\n",
       "    </tr>\n",
       "    <tr>\n",
       "      <th>2</th>\n",
       "      <td>1961-12-31</td>\n",
       "      <td>Pesos</td>\n",
       "      <td>0.014144</td>\n",
       "      <td>0.024082</td>\n",
       "      <td>0.029302</td>\n",
       "      <td>0.031751</td>\n",
       "      <td>0.213136</td>\n",
       "      <td>2.276270e-11</td>\n",
       "    </tr>\n",
       "    <tr>\n",
       "      <th>3</th>\n",
       "      <td>1962-12-31</td>\n",
       "      <td>Pesos</td>\n",
       "      <td>0.015288</td>\n",
       "      <td>0.024283</td>\n",
       "      <td>0.030303</td>\n",
       "      <td>0.033137</td>\n",
       "      <td>0.253471</td>\n",
       "      <td>2.897071e-11</td>\n",
       "    </tr>\n",
       "    <tr>\n",
       "      <th>4</th>\n",
       "      <td>1963-12-31</td>\n",
       "      <td>Pesos</td>\n",
       "      <td>0.021007</td>\n",
       "      <td>0.030905</td>\n",
       "      <td>0.039715</td>\n",
       "      <td>0.043840</td>\n",
       "      <td>0.359472</td>\n",
       "      <td>3.414405e-11</td>\n",
       "    </tr>\n",
       "  </tbody>\n",
       "</table>\n",
       "</div>"
      ],
      "text/plain": [
       "         Año divisa        M0        M1        M2        M3  \\\n",
       "0 1959-12-31  Pesos  0.011898  0.016804  0.020309  0.021351   \n",
       "1 1960-12-31  Pesos  0.014366  0.021707  0.026134  0.027830   \n",
       "2 1961-12-31  Pesos  0.014144  0.024082  0.029302  0.031751   \n",
       "3 1962-12-31  Pesos  0.015288  0.024283  0.030303  0.033137   \n",
       "4 1963-12-31  Pesos  0.021007  0.030905  0.039715  0.043840   \n",
       "\n",
       "   GDP (current LCU)  CPI (2016 = Base Yr)  \n",
       "0           0.131509          1.448536e-11  \n",
       "1           0.166807          1.707203e-11  \n",
       "2           0.213136          2.276270e-11  \n",
       "3           0.253471          2.897071e-11  \n",
       "4           0.359472          3.414405e-11  "
      ]
     },
     "execution_count": 50,
     "metadata": {},
     "output_type": "execute_result"
    }
   ],
   "source": [
    "df.head()"
   ]
  },
  {
   "cell_type": "markdown",
   "metadata": {},
   "source": [
    "Añadimos a nuestro Data Frame el GDP en términos reales"
   ]
  },
  {
   "cell_type": "code",
   "execution_count": 51,
   "metadata": {},
   "outputs": [],
   "source": [
    "df_excel = pd.read_excel('Data_in/GDP_Real_Argentina.xls')\n",
    "df_excel['Año'] = pd.to_datetime(df_excel['Año'])\n",
    "df = df.merge(df_excel, on='Año', how='left')"
   ]
  },
  {
   "cell_type": "code",
   "execution_count": 52,
   "metadata": {},
   "outputs": [
    {
     "data": {
      "text/html": [
       "<div>\n",
       "<style scoped>\n",
       "    .dataframe tbody tr th:only-of-type {\n",
       "        vertical-align: middle;\n",
       "    }\n",
       "\n",
       "    .dataframe tbody tr th {\n",
       "        vertical-align: top;\n",
       "    }\n",
       "\n",
       "    .dataframe thead th {\n",
       "        text-align: right;\n",
       "    }\n",
       "</style>\n",
       "<table border=\"1\" class=\"dataframe\">\n",
       "  <thead>\n",
       "    <tr style=\"text-align: right;\">\n",
       "      <th></th>\n",
       "      <th>Año</th>\n",
       "      <th>divisa</th>\n",
       "      <th>M0</th>\n",
       "      <th>M1</th>\n",
       "      <th>M2</th>\n",
       "      <th>M3</th>\n",
       "      <th>GDP (current LCU)</th>\n",
       "      <th>CPI (2016 = Base Yr)</th>\n",
       "      <th>GDP (constant LCU)</th>\n",
       "    </tr>\n",
       "  </thead>\n",
       "  <tbody>\n",
       "    <tr>\n",
       "      <th>0</th>\n",
       "      <td>1959-12-31</td>\n",
       "      <td>Pesos</td>\n",
       "      <td>0.011898</td>\n",
       "      <td>0.016804</td>\n",
       "      <td>0.020309</td>\n",
       "      <td>0.021351</td>\n",
       "      <td>0.131509</td>\n",
       "      <td>1.448536e-11</td>\n",
       "      <td>NaN</td>\n",
       "    </tr>\n",
       "  </tbody>\n",
       "</table>\n",
       "</div>"
      ],
      "text/plain": [
       "         Año divisa        M0        M1        M2        M3  \\\n",
       "0 1959-12-31  Pesos  0.011898  0.016804  0.020309  0.021351   \n",
       "\n",
       "   GDP (current LCU)  CPI (2016 = Base Yr)  GDP (constant LCU)  \n",
       "0           0.131509          1.448536e-11                 NaN  "
      ]
     },
     "execution_count": 52,
     "metadata": {},
     "output_type": "execute_result"
    }
   ],
   "source": [
    "df.head(1)"
   ]
  },
  {
   "cell_type": "code",
   "execution_count": 53,
   "metadata": {},
   "outputs": [],
   "source": [
    "df.to_csv('csv_creados/df_Inflation.csv', index=False)"
   ]
  },
  {
   "cell_type": "markdown",
   "metadata": {},
   "source": [
    "#### Calculamos la Velocidad del Dinero de M2"
   ]
  },
  {
   "cell_type": "markdown",
   "metadata": {},
   "source": [
    "Ecuation of Exchange --> M * V = P * Q (PQ = nominal GDP)"
   ]
  },
  {
   "cell_type": "markdown",
   "metadata": {},
   "source": [
    "V = GDP / M"
   ]
  },
  {
   "cell_type": "code",
   "execution_count": 54,
   "metadata": {},
   "outputs": [],
   "source": [
    "df['Velocity of M2'] = df['GDP (current LCU)'] / df['M2']"
   ]
  },
  {
   "cell_type": "code",
   "execution_count": 55,
   "metadata": {},
   "outputs": [
    {
     "data": {
      "text/html": [
       "<div>\n",
       "<style scoped>\n",
       "    .dataframe tbody tr th:only-of-type {\n",
       "        vertical-align: middle;\n",
       "    }\n",
       "\n",
       "    .dataframe tbody tr th {\n",
       "        vertical-align: top;\n",
       "    }\n",
       "\n",
       "    .dataframe thead th {\n",
       "        text-align: right;\n",
       "    }\n",
       "</style>\n",
       "<table border=\"1\" class=\"dataframe\">\n",
       "  <thead>\n",
       "    <tr style=\"text-align: right;\">\n",
       "      <th></th>\n",
       "      <th>Año</th>\n",
       "      <th>divisa</th>\n",
       "      <th>M0</th>\n",
       "      <th>M1</th>\n",
       "      <th>M2</th>\n",
       "      <th>M3</th>\n",
       "      <th>GDP (current LCU)</th>\n",
       "      <th>CPI (2016 = Base Yr)</th>\n",
       "      <th>GDP (constant LCU)</th>\n",
       "      <th>Velocity of M2</th>\n",
       "    </tr>\n",
       "  </thead>\n",
       "  <tbody>\n",
       "    <tr>\n",
       "      <th>0</th>\n",
       "      <td>1959-12-31</td>\n",
       "      <td>Pesos</td>\n",
       "      <td>0.011898</td>\n",
       "      <td>0.016804</td>\n",
       "      <td>0.020309</td>\n",
       "      <td>0.021351</td>\n",
       "      <td>0.131509</td>\n",
       "      <td>1.448536e-11</td>\n",
       "      <td>NaN</td>\n",
       "      <td>6.475506</td>\n",
       "    </tr>\n",
       "    <tr>\n",
       "      <th>1</th>\n",
       "      <td>1960-12-31</td>\n",
       "      <td>Pesos</td>\n",
       "      <td>0.014366</td>\n",
       "      <td>0.021707</td>\n",
       "      <td>0.026134</td>\n",
       "      <td>0.027830</td>\n",
       "      <td>0.166807</td>\n",
       "      <td>1.707203e-11</td>\n",
       "      <td>1.829320e+11</td>\n",
       "      <td>6.382836</td>\n",
       "    </tr>\n",
       "    <tr>\n",
       "      <th>2</th>\n",
       "      <td>1961-12-31</td>\n",
       "      <td>Pesos</td>\n",
       "      <td>0.014144</td>\n",
       "      <td>0.024082</td>\n",
       "      <td>0.029302</td>\n",
       "      <td>0.031751</td>\n",
       "      <td>0.213136</td>\n",
       "      <td>2.276270e-11</td>\n",
       "      <td>1.928613e+11</td>\n",
       "      <td>7.273797</td>\n",
       "    </tr>\n",
       "    <tr>\n",
       "      <th>3</th>\n",
       "      <td>1962-12-31</td>\n",
       "      <td>Pesos</td>\n",
       "      <td>0.015288</td>\n",
       "      <td>0.024283</td>\n",
       "      <td>0.030303</td>\n",
       "      <td>0.033137</td>\n",
       "      <td>0.253471</td>\n",
       "      <td>2.897071e-11</td>\n",
       "      <td>1.912181e+11</td>\n",
       "      <td>8.364576</td>\n",
       "    </tr>\n",
       "    <tr>\n",
       "      <th>4</th>\n",
       "      <td>1963-12-31</td>\n",
       "      <td>Pesos</td>\n",
       "      <td>0.021007</td>\n",
       "      <td>0.030905</td>\n",
       "      <td>0.039715</td>\n",
       "      <td>0.043840</td>\n",
       "      <td>0.359472</td>\n",
       "      <td>3.414405e-11</td>\n",
       "      <td>1.810678e+11</td>\n",
       "      <td>9.051316</td>\n",
       "    </tr>\n",
       "  </tbody>\n",
       "</table>\n",
       "</div>"
      ],
      "text/plain": [
       "         Año divisa        M0        M1        M2        M3  \\\n",
       "0 1959-12-31  Pesos  0.011898  0.016804  0.020309  0.021351   \n",
       "1 1960-12-31  Pesos  0.014366  0.021707  0.026134  0.027830   \n",
       "2 1961-12-31  Pesos  0.014144  0.024082  0.029302  0.031751   \n",
       "3 1962-12-31  Pesos  0.015288  0.024283  0.030303  0.033137   \n",
       "4 1963-12-31  Pesos  0.021007  0.030905  0.039715  0.043840   \n",
       "\n",
       "   GDP (current LCU)  CPI (2016 = Base Yr)  GDP (constant LCU)  Velocity of M2  \n",
       "0           0.131509          1.448536e-11                 NaN        6.475506  \n",
       "1           0.166807          1.707203e-11        1.829320e+11        6.382836  \n",
       "2           0.213136          2.276270e-11        1.928613e+11        7.273797  \n",
       "3           0.253471          2.897071e-11        1.912181e+11        8.364576  \n",
       "4           0.359472          3.414405e-11        1.810678e+11        9.051316  "
      ]
     },
     "execution_count": 55,
     "metadata": {},
     "output_type": "execute_result"
    }
   ],
   "source": [
    "df.head()"
   ]
  },
  {
   "cell_type": "code",
   "execution_count": 56,
   "metadata": {},
   "outputs": [
    {
     "data": {
      "image/png": "[encoded data removed]",
      "text/plain": [
       "<Figure size 600x300 with 1 Axes>"
      ]
     },
     "metadata": {},
     "output_type": "display_data"
    }
   ],
   "source": [
    "import matplotlib.pyplot as plt \n",
    "\n",
    "plt.figure(figsize=(6, 3))\n",
    "plt.title('Velocity of M2 1960 - 2022')\n",
    "plt.xlabel('Año')\n",
    "plt.ylabel('Velocity M2')\n",
    "\n",
    "plt.plot(df['Año'], df['Velocity of M2'], label='Velocity M2')\n",
    "\n",
    "plt.yscale(\"log\")  # Agrega la escala logarítmica al eje Y\n",
    "\n",
    "plt.legend()\n",
    "\n",
    "plt.grid(True)\n",
    "plt.tight_layout()\n",
    "plt.show()"
   ]
  },
  {
   "cell_type": "code",
   "execution_count": 57,
   "metadata": {},
   "outputs": [],
   "source": [
    "df.to_csv('csv_creados/df_infl.csv', index=False) #df_infl --> datos en términos absolutos"
   ]
  },
  {
   "cell_type": "markdown",
   "metadata": {},
   "source": [
    "#### Cremos otro Data Frame con las variables en tasas de variación anual"
   ]
  },
  {
   "cell_type": "code",
   "execution_count": 58,
   "metadata": {},
   "outputs": [],
   "source": [
    "archivo = 'csv_creados/df_infl.csv'\n",
    "df_infl = pd.read_csv(archivo)"
   ]
  },
  {
   "cell_type": "code",
   "execution_count": 59,
   "metadata": {},
   "outputs": [],
   "source": [
    "df_infl_tva = df_infl.copy()\n",
    "for col in df_infl.columns[2:]:  # Excluye las columnas 'Año' y 'divisa'\n",
    "    df_infl_tva[col] = df_infl[col].pct_change()"
   ]
  },
  {
   "cell_type": "code",
   "execution_count": 60,
   "metadata": {},
   "outputs": [],
   "source": [
    "## Eliminamos la primera fila por no poder calcular su TVA\n",
    "df_infl_tva = df_infl_tva.iloc[1:]\n",
    "df_infl_tva.reset_index(drop=True, inplace=True)"
   ]
  },
  {
   "cell_type": "code",
   "execution_count": 61,
   "metadata": {},
   "outputs": [],
   "source": [
    "df_infl_tva.columns = ['Año', 'Divisa', 'M0_gr', 'M1_gr', 'M2_gr', 'M3_gr', 'GDP_gr', 'Inflation Rate', 'GDP_Real_gr', 'Velocity M2_gr']"
   ]
  },
  {
   "cell_type": "code",
   "execution_count": 62,
   "metadata": {},
   "outputs": [
    {
     "data": {
      "text/html": [
       "<div>\n",
       "<style scoped>\n",
       "    .dataframe tbody tr th:only-of-type {\n",
       "        vertical-align: middle;\n",
       "    }\n",
       "\n",
       "    .dataframe tbody tr th {\n",
       "        vertical-align: top;\n",
       "    }\n",
       "\n",
       "    .dataframe thead th {\n",
       "        text-align: right;\n",
       "    }\n",
       "</style>\n",
       "<table border=\"1\" class=\"dataframe\">\n",
       "  <thead>\n",
       "    <tr style=\"text-align: right;\">\n",
       "      <th></th>\n",
       "      <th>Año</th>\n",
       "      <th>Divisa</th>\n",
       "      <th>M0_gr</th>\n",
       "      <th>M1_gr</th>\n",
       "      <th>M2_gr</th>\n",
       "      <th>M3_gr</th>\n",
       "      <th>GDP_gr</th>\n",
       "      <th>Inflation Rate</th>\n",
       "      <th>GDP_Real_gr</th>\n",
       "      <th>Velocity M2_gr</th>\n",
       "    </tr>\n",
       "  </thead>\n",
       "  <tbody>\n",
       "    <tr>\n",
       "      <th>0</th>\n",
       "      <td>1960-12-31</td>\n",
       "      <td>Pesos</td>\n",
       "      <td>0.207364</td>\n",
       "      <td>0.291750</td>\n",
       "      <td>0.286825</td>\n",
       "      <td>0.303500</td>\n",
       "      <td>0.268410</td>\n",
       "      <td>0.178571</td>\n",
       "      <td>NaN</td>\n",
       "      <td>-0.014311</td>\n",
       "    </tr>\n",
       "    <tr>\n",
       "      <th>1</th>\n",
       "      <td>1961-12-31</td>\n",
       "      <td>Pesos</td>\n",
       "      <td>-0.015452</td>\n",
       "      <td>0.109421</td>\n",
       "      <td>0.121229</td>\n",
       "      <td>0.140866</td>\n",
       "      <td>0.277738</td>\n",
       "      <td>0.333333</td>\n",
       "      <td>0.054278</td>\n",
       "      <td>0.139587</td>\n",
       "    </tr>\n",
       "    <tr>\n",
       "      <th>2</th>\n",
       "      <td>1962-12-31</td>\n",
       "      <td>Pesos</td>\n",
       "      <td>0.080916</td>\n",
       "      <td>0.008348</td>\n",
       "      <td>0.034162</td>\n",
       "      <td>0.043666</td>\n",
       "      <td>0.189245</td>\n",
       "      <td>0.272727</td>\n",
       "      <td>-0.008520</td>\n",
       "      <td>0.149960</td>\n",
       "    </tr>\n",
       "    <tr>\n",
       "      <th>3</th>\n",
       "      <td>1963-12-31</td>\n",
       "      <td>Pesos</td>\n",
       "      <td>0.374048</td>\n",
       "      <td>0.272704</td>\n",
       "      <td>0.310597</td>\n",
       "      <td>0.322993</td>\n",
       "      <td>0.418199</td>\n",
       "      <td>0.178571</td>\n",
       "      <td>-0.053082</td>\n",
       "      <td>0.082101</td>\n",
       "    </tr>\n",
       "    <tr>\n",
       "      <th>4</th>\n",
       "      <td>1964-12-31</td>\n",
       "      <td>Pesos</td>\n",
       "      <td>0.407422</td>\n",
       "      <td>0.436742</td>\n",
       "      <td>0.456275</td>\n",
       "      <td>0.447860</td>\n",
       "      <td>0.340466</td>\n",
       "      <td>0.393939</td>\n",
       "      <td>0.101303</td>\n",
       "      <td>-0.079525</td>\n",
       "    </tr>\n",
       "  </tbody>\n",
       "</table>\n",
       "</div>"
      ],
      "text/plain": [
       "          Año Divisa     M0_gr     M1_gr     M2_gr     M3_gr    GDP_gr  \\\n",
       "0  1960-12-31  Pesos  0.207364  0.291750  0.286825  0.303500  0.268410   \n",
       "1  1961-12-31  Pesos -0.015452  0.109421  0.121229  0.140866  0.277738   \n",
       "2  1962-12-31  Pesos  0.080916  0.008348  0.034162  0.043666  0.189245   \n",
       "3  1963-12-31  Pesos  0.374048  0.272704  0.310597  0.322993  0.418199   \n",
       "4  1964-12-31  Pesos  0.407422  0.436742  0.456275  0.447860  0.340466   \n",
       "\n",
       "   Inflation Rate  GDP_Real_gr  Velocity M2_gr  \n",
       "0        0.178571          NaN       -0.014311  \n",
       "1        0.333333     0.054278        0.139587  \n",
       "2        0.272727    -0.008520        0.149960  \n",
       "3        0.178571    -0.053082        0.082101  \n",
       "4        0.393939     0.101303       -0.079525  "
      ]
     },
     "execution_count": 62,
     "metadata": {},
     "output_type": "execute_result"
    }
   ],
   "source": [
    "df_infl_tva.head()"
   ]
  },
  {
   "cell_type": "code",
   "execution_count": 63,
   "metadata": {},
   "outputs": [],
   "source": [
    "df_infl_tva.to_csv('csv_creados/df_infl_tva.csv',index=False) #df_infl --> datos en términos relativos"
   ]
  }
 ],
 "metadata": {
  "kernelspec": {
   "display_name": "Python 3",
   "language": "python",
   "name": "python3"
  },
  "language_info": {
   "codemirror_mode": {
    "name": "ipython",
    "version": 3
   },
   "file_extension": ".py",
   "mimetype": "text/x-python",
   "name": "python",
   "nbconvert_exporter": "python",
   "pygments_lexer": "ipython3",
   "version": "3.11.4"
  }
 },
 "nbformat": 4,
 "nbformat_minor": 2
}
