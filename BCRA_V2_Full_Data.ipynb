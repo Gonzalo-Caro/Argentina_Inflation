{
 "cells": [
  {
   "cell_type": "code",
   "execution_count": 16,
   "metadata": {},
   "outputs": [],
   "source": [
    "import pandas as pd\n",
    "import numpy as np\n",
    "archivo = 'csv_creados/Arg_MonetaryAgregates.csv'\n",
    "df = pd.read_csv(archivo)"
   ]
  },
  {
   "cell_type": "markdown",
   "metadata": {},
   "source": [
    "#### GDP"
   ]
  },
  {
   "cell_type": "markdown",
   "metadata": {},
   "source": [
    "GDP : Gross Domestic Product"
   ]
  },
  {
   "cell_type": "markdown",
   "metadata": {},
   "source": [
    "#### Añadimos a nuestro Data Frame el GDP en términos nominales"
   ]
  },
  {
   "cell_type": "code",
   "execution_count": 17,
   "metadata": {},
   "outputs": [],
   "source": [
    "archivo = 'Data_in/GDP_F.xlsx'\n",
    "gdp = pd.read_excel(archivo)"
   ]
  },
  {
   "cell_type": "code",
   "execution_count": 18,
   "metadata": {},
   "outputs": [
    {
     "data": {
      "text/html": [
       "<div>\n",
       "<style scoped>\n",
       "    .dataframe tbody tr th:only-of-type {\n",
       "        vertical-align: middle;\n",
       "    }\n",
       "\n",
       "    .dataframe tbody tr th {\n",
       "        vertical-align: top;\n",
       "    }\n",
       "\n",
       "    .dataframe thead th {\n",
       "        text-align: right;\n",
       "    }\n",
       "</style>\n",
       "<table border=\"1\" class=\"dataframe\">\n",
       "  <thead>\n",
       "    <tr style=\"text-align: right;\">\n",
       "      <th></th>\n",
       "      <th>Año</th>\n",
       "      <th>divisa</th>\n",
       "      <th>M0</th>\n",
       "      <th>M1</th>\n",
       "      <th>M2</th>\n",
       "      <th>M3</th>\n",
       "      <th>GDP (current LCU)</th>\n",
       "    </tr>\n",
       "  </thead>\n",
       "  <tbody>\n",
       "    <tr>\n",
       "      <th>0</th>\n",
       "      <td>1959-12-31</td>\n",
       "      <td>Pesos</td>\n",
       "      <td>0.011898</td>\n",
       "      <td>0.016804</td>\n",
       "      <td>0.020309</td>\n",
       "      <td>0.021351</td>\n",
       "      <td>0.131509</td>\n",
       "    </tr>\n",
       "    <tr>\n",
       "      <th>1</th>\n",
       "      <td>1960-12-31</td>\n",
       "      <td>Pesos</td>\n",
       "      <td>0.014366</td>\n",
       "      <td>0.021707</td>\n",
       "      <td>0.026134</td>\n",
       "      <td>0.027830</td>\n",
       "      <td>0.166807</td>\n",
       "    </tr>\n",
       "    <tr>\n",
       "      <th>2</th>\n",
       "      <td>1961-12-31</td>\n",
       "      <td>Pesos</td>\n",
       "      <td>0.014144</td>\n",
       "      <td>0.024082</td>\n",
       "      <td>0.029302</td>\n",
       "      <td>0.031751</td>\n",
       "      <td>0.213136</td>\n",
       "    </tr>\n",
       "    <tr>\n",
       "      <th>3</th>\n",
       "      <td>1962-12-31</td>\n",
       "      <td>Pesos</td>\n",
       "      <td>0.015288</td>\n",
       "      <td>0.024283</td>\n",
       "      <td>0.030303</td>\n",
       "      <td>0.033137</td>\n",
       "      <td>0.253471</td>\n",
       "    </tr>\n",
       "    <tr>\n",
       "      <th>4</th>\n",
       "      <td>1963-12-31</td>\n",
       "      <td>Pesos</td>\n",
       "      <td>0.021007</td>\n",
       "      <td>0.030905</td>\n",
       "      <td>0.039715</td>\n",
       "      <td>0.043840</td>\n",
       "      <td>0.359472</td>\n",
       "    </tr>\n",
       "  </tbody>\n",
       "</table>\n",
       "</div>"
      ],
      "text/plain": [
       "         Año divisa        M0        M1        M2        M3  GDP (current LCU)\n",
       "0 1959-12-31  Pesos  0.011898  0.016804  0.020309  0.021351           0.131509\n",
       "1 1960-12-31  Pesos  0.014366  0.021707  0.026134  0.027830           0.166807\n",
       "2 1961-12-31  Pesos  0.014144  0.024082  0.029302  0.031751           0.213136\n",
       "3 1962-12-31  Pesos  0.015288  0.024283  0.030303  0.033137           0.253471\n",
       "4 1963-12-31  Pesos  0.021007  0.030905  0.039715  0.043840           0.359472"
      ]
     },
     "execution_count": 18,
     "metadata": {},
     "output_type": "execute_result"
    }
   ],
   "source": [
    "gdp['Año'] = pd.to_datetime(gdp['Año'].astype(str) + '1231', format='%Y%m%d')\n",
    "df['Año'] = pd.to_datetime(df['Año'])\n",
    "df = pd.merge(df,gdp, on='Año', suffixes=('_df', '_gdp'))\n",
    "df.head()"
   ]
  },
  {
   "cell_type": "markdown",
   "metadata": {},
   "source": [
    "### CPI"
   ]
  },
  {
   "cell_type": "markdown",
   "metadata": {},
   "source": [
    "CPI : Consumer price index"
   ]
  },
  {
   "cell_type": "markdown",
   "metadata": {},
   "source": [
    "#### Añadimos a nuestro Data Frame el CPI en número indice con año base 2016"
   ]
  },
  {
   "cell_type": "code",
   "execution_count": 19,
   "metadata": {},
   "outputs": [
    {
     "name": "stdout",
     "output_type": "stream",
     "text": [
      "Directorio de trabajo actual: /Users/gonzalocaro/Desktop/Proyecto BCRA/Git Repository/Argentina_Inflation\n",
      "El archivo no se encuentra en la ruta: Data_in/cpi_argentina2.xls\n"
     ]
    }
   ],
   "source": [
    "import os\n",
    "import pandas as pd\n",
    "\n",
    "# Verificar el directorio de trabajo actual\n",
    "print(\"Directorio de trabajo actual:\", os.getcwd())\n",
    "\n",
    "# Verificar si el archivo existe en la ruta especificada\n",
    "file_path = 'Data_in/cpi_argentina2.xls'\n",
    "if not os.path.isfile(file_path):\n",
    "    print(f\"El archivo no se encuentra en la ruta: {file_path}\")\n",
    "else:\n",
    "    # Leer el archivo si se encuentra en la ruta especificada\n",
    "    df = pd.read_excel(file_path)\n",
    "    print(df.head())\n"
   ]
  },
  {
   "cell_type": "code",
   "execution_count": 20,
   "metadata": {},
   "outputs": [],
   "source": [
    "import os\n",
    "\n",
    "os.chdir('/Users/gonzalocaro/Desktop/Proyecto BCRA/Git Repository/Argentina_Inflation')\n",
    "\n",
    "archivo = 'Data_in/cpi_argentina2.xlsx'\n",
    "cpi = pd.read_excel(archivo)\n",
    "\n"
   ]
  },
  {
   "cell_type": "code",
   "execution_count": 21,
   "metadata": {},
   "outputs": [],
   "source": [
    "###archivo = 'Data_in/cpi_argentina2.xls'\n",
    "### cpi = pd.read_excel(archivo)\n",
    "df = pd.merge(df,cpi, on='Año', suffixes=('_df_inflation', '_cpi'))\n"
   ]
  },
  {
   "cell_type": "code",
   "execution_count": 22,
   "metadata": {},
   "outputs": [
    {
     "data": {
      "text/html": [
       "<div>\n",
       "<style scoped>\n",
       "    .dataframe tbody tr th:only-of-type {\n",
       "        vertical-align: middle;\n",
       "    }\n",
       "\n",
       "    .dataframe tbody tr th {\n",
       "        vertical-align: top;\n",
       "    }\n",
       "\n",
       "    .dataframe thead th {\n",
       "        text-align: right;\n",
       "    }\n",
       "</style>\n",
       "<table border=\"1\" class=\"dataframe\">\n",
       "  <thead>\n",
       "    <tr style=\"text-align: right;\">\n",
       "      <th></th>\n",
       "      <th>Año</th>\n",
       "      <th>divisa</th>\n",
       "      <th>M0</th>\n",
       "      <th>M1</th>\n",
       "      <th>M2</th>\n",
       "      <th>M3</th>\n",
       "      <th>GDP (current LCU)</th>\n",
       "      <th>CPI (Base Year 2016)</th>\n",
       "    </tr>\n",
       "  </thead>\n",
       "  <tbody>\n",
       "    <tr>\n",
       "      <th>0</th>\n",
       "      <td>1960-12-31</td>\n",
       "      <td>Pesos</td>\n",
       "      <td>0.014366</td>\n",
       "      <td>0.021707</td>\n",
       "      <td>0.026134</td>\n",
       "      <td>0.027830</td>\n",
       "      <td>0.166807</td>\n",
       "      <td>6.172503e-12</td>\n",
       "    </tr>\n",
       "    <tr>\n",
       "      <th>1</th>\n",
       "      <td>1961-12-31</td>\n",
       "      <td>Pesos</td>\n",
       "      <td>0.014144</td>\n",
       "      <td>0.024082</td>\n",
       "      <td>0.029302</td>\n",
       "      <td>0.031751</td>\n",
       "      <td>0.213136</td>\n",
       "      <td>7.426182e-12</td>\n",
       "    </tr>\n",
       "    <tr>\n",
       "      <th>2</th>\n",
       "      <td>1962-12-31</td>\n",
       "      <td>Pesos</td>\n",
       "      <td>0.015288</td>\n",
       "      <td>0.024283</td>\n",
       "      <td>0.030303</td>\n",
       "      <td>0.033137</td>\n",
       "      <td>0.253471</td>\n",
       "      <td>9.570257e-12</td>\n",
       "    </tr>\n",
       "    <tr>\n",
       "      <th>3</th>\n",
       "      <td>1963-12-31</td>\n",
       "      <td>Pesos</td>\n",
       "      <td>0.021007</td>\n",
       "      <td>0.030905</td>\n",
       "      <td>0.039715</td>\n",
       "      <td>0.043840</td>\n",
       "      <td>0.359472</td>\n",
       "      <td>1.201940e-11</td>\n",
       "    </tr>\n",
       "    <tr>\n",
       "      <th>4</th>\n",
       "      <td>1964-12-31</td>\n",
       "      <td>Pesos</td>\n",
       "      <td>0.029565</td>\n",
       "      <td>0.044402</td>\n",
       "      <td>0.057836</td>\n",
       "      <td>0.063475</td>\n",
       "      <td>0.481860</td>\n",
       "      <td>1.547793e-11</td>\n",
       "    </tr>\n",
       "  </tbody>\n",
       "</table>\n",
       "</div>"
      ],
      "text/plain": [
       "         Año divisa        M0        M1        M2        M3  \\\n",
       "0 1960-12-31  Pesos  0.014366  0.021707  0.026134  0.027830   \n",
       "1 1961-12-31  Pesos  0.014144  0.024082  0.029302  0.031751   \n",
       "2 1962-12-31  Pesos  0.015288  0.024283  0.030303  0.033137   \n",
       "3 1963-12-31  Pesos  0.021007  0.030905  0.039715  0.043840   \n",
       "4 1964-12-31  Pesos  0.029565  0.044402  0.057836  0.063475   \n",
       "\n",
       "   GDP (current LCU)  CPI (Base Year 2016)  \n",
       "0           0.166807          6.172503e-12  \n",
       "1           0.213136          7.426182e-12  \n",
       "2           0.253471          9.570257e-12  \n",
       "3           0.359472          1.201940e-11  \n",
       "4           0.481860          1.547793e-11  "
      ]
     },
     "execution_count": 22,
     "metadata": {},
     "output_type": "execute_result"
    }
   ],
   "source": [
    "df.head()"
   ]
  },
  {
   "cell_type": "markdown",
   "metadata": {},
   "source": [
    "Añadimos a nuestro Data Frame el GDP en términos reales"
   ]
  },
  {
   "cell_type": "code",
   "execution_count": 23,
   "metadata": {},
   "outputs": [],
   "source": [
    "df_excel = pd.read_excel('Data_in/GDP_Real_Argentina.xls')\n",
    "df_excel['Año'] = pd.to_datetime(df_excel['Año'])\n",
    "df = df.merge(df_excel, on='Año', how='left')"
   ]
  },
  {
   "cell_type": "code",
   "execution_count": 24,
   "metadata": {},
   "outputs": [
    {
     "data": {
      "text/html": [
       "<div>\n",
       "<style scoped>\n",
       "    .dataframe tbody tr th:only-of-type {\n",
       "        vertical-align: middle;\n",
       "    }\n",
       "\n",
       "    .dataframe tbody tr th {\n",
       "        vertical-align: top;\n",
       "    }\n",
       "\n",
       "    .dataframe thead th {\n",
       "        text-align: right;\n",
       "    }\n",
       "</style>\n",
       "<table border=\"1\" class=\"dataframe\">\n",
       "  <thead>\n",
       "    <tr style=\"text-align: right;\">\n",
       "      <th></th>\n",
       "      <th>Año</th>\n",
       "      <th>divisa</th>\n",
       "      <th>M0</th>\n",
       "      <th>M1</th>\n",
       "      <th>M2</th>\n",
       "      <th>M3</th>\n",
       "      <th>GDP (current LCU)</th>\n",
       "      <th>CPI (Base Year 2016)</th>\n",
       "      <th>GDP (constant LCU)</th>\n",
       "    </tr>\n",
       "  </thead>\n",
       "  <tbody>\n",
       "    <tr>\n",
       "      <th>0</th>\n",
       "      <td>1960-12-31</td>\n",
       "      <td>Pesos</td>\n",
       "      <td>0.014366</td>\n",
       "      <td>0.021707</td>\n",
       "      <td>0.026134</td>\n",
       "      <td>0.02783</td>\n",
       "      <td>0.166807</td>\n",
       "      <td>6.172503e-12</td>\n",
       "      <td>182932009390</td>\n",
       "    </tr>\n",
       "  </tbody>\n",
       "</table>\n",
       "</div>"
      ],
      "text/plain": [
       "         Año divisa        M0        M1        M2       M3  GDP (current LCU)  \\\n",
       "0 1960-12-31  Pesos  0.014366  0.021707  0.026134  0.02783           0.166807   \n",
       "\n",
       "   CPI (Base Year 2016)  GDP (constant LCU)  \n",
       "0          6.172503e-12        182932009390  "
      ]
     },
     "execution_count": 24,
     "metadata": {},
     "output_type": "execute_result"
    }
   ],
   "source": [
    "df.head(1)"
   ]
  },
  {
   "cell_type": "code",
   "execution_count": 25,
   "metadata": {},
   "outputs": [],
   "source": [
    "df.to_csv('csv_creados/df_Inflation.csv', index=False)"
   ]
  },
  {
   "cell_type": "markdown",
   "metadata": {},
   "source": [
    "#### Calculamos la Velocidad del Dinero de M2"
   ]
  },
  {
   "cell_type": "markdown",
   "metadata": {},
   "source": [
    "Ecuation of Exchange --> M * V = P * Q (PQ = nominal GDP)"
   ]
  },
  {
   "cell_type": "markdown",
   "metadata": {},
   "source": [
    "V = GDP / M"
   ]
  },
  {
   "cell_type": "code",
   "execution_count": 26,
   "metadata": {},
   "outputs": [],
   "source": [
    "df['Velocity of M2'] = df['GDP (current LCU)'] / df['M2']"
   ]
  },
  {
   "cell_type": "code",
   "execution_count": 27,
   "metadata": {},
   "outputs": [
    {
     "data": {
      "text/html": [
       "<div>\n",
       "<style scoped>\n",
       "    .dataframe tbody tr th:only-of-type {\n",
       "        vertical-align: middle;\n",
       "    }\n",
       "\n",
       "    .dataframe tbody tr th {\n",
       "        vertical-align: top;\n",
       "    }\n",
       "\n",
       "    .dataframe thead th {\n",
       "        text-align: right;\n",
       "    }\n",
       "</style>\n",
       "<table border=\"1\" class=\"dataframe\">\n",
       "  <thead>\n",
       "    <tr style=\"text-align: right;\">\n",
       "      <th></th>\n",
       "      <th>Año</th>\n",
       "      <th>divisa</th>\n",
       "      <th>M0</th>\n",
       "      <th>M1</th>\n",
       "      <th>M2</th>\n",
       "      <th>M3</th>\n",
       "      <th>GDP (current LCU)</th>\n",
       "      <th>CPI (Base Year 2016)</th>\n",
       "      <th>GDP (constant LCU)</th>\n",
       "      <th>Velocity of M2</th>\n",
       "    </tr>\n",
       "  </thead>\n",
       "  <tbody>\n",
       "    <tr>\n",
       "      <th>0</th>\n",
       "      <td>1960-12-31</td>\n",
       "      <td>Pesos</td>\n",
       "      <td>0.014366</td>\n",
       "      <td>0.021707</td>\n",
       "      <td>0.026134</td>\n",
       "      <td>0.027830</td>\n",
       "      <td>0.166807</td>\n",
       "      <td>6.172503e-12</td>\n",
       "      <td>182932009390</td>\n",
       "      <td>6.382836</td>\n",
       "    </tr>\n",
       "    <tr>\n",
       "      <th>1</th>\n",
       "      <td>1961-12-31</td>\n",
       "      <td>Pesos</td>\n",
       "      <td>0.014144</td>\n",
       "      <td>0.024082</td>\n",
       "      <td>0.029302</td>\n",
       "      <td>0.031751</td>\n",
       "      <td>0.213136</td>\n",
       "      <td>7.426182e-12</td>\n",
       "      <td>192861271430</td>\n",
       "      <td>7.273797</td>\n",
       "    </tr>\n",
       "    <tr>\n",
       "      <th>2</th>\n",
       "      <td>1962-12-31</td>\n",
       "      <td>Pesos</td>\n",
       "      <td>0.015288</td>\n",
       "      <td>0.024283</td>\n",
       "      <td>0.030303</td>\n",
       "      <td>0.033137</td>\n",
       "      <td>0.253471</td>\n",
       "      <td>9.570257e-12</td>\n",
       "      <td>191218051890</td>\n",
       "      <td>8.364576</td>\n",
       "    </tr>\n",
       "    <tr>\n",
       "      <th>3</th>\n",
       "      <td>1963-12-31</td>\n",
       "      <td>Pesos</td>\n",
       "      <td>0.021007</td>\n",
       "      <td>0.030905</td>\n",
       "      <td>0.039715</td>\n",
       "      <td>0.043840</td>\n",
       "      <td>0.359472</td>\n",
       "      <td>1.201940e-11</td>\n",
       "      <td>181067821330</td>\n",
       "      <td>9.051316</td>\n",
       "    </tr>\n",
       "    <tr>\n",
       "      <th>4</th>\n",
       "      <td>1964-12-31</td>\n",
       "      <td>Pesos</td>\n",
       "      <td>0.029565</td>\n",
       "      <td>0.044402</td>\n",
       "      <td>0.057836</td>\n",
       "      <td>0.063475</td>\n",
       "      <td>0.481860</td>\n",
       "      <td>1.547793e-11</td>\n",
       "      <td>199410530600</td>\n",
       "      <td>8.331514</td>\n",
       "    </tr>\n",
       "  </tbody>\n",
       "</table>\n",
       "</div>"
      ],
      "text/plain": [
       "         Año divisa        M0        M1        M2        M3  \\\n",
       "0 1960-12-31  Pesos  0.014366  0.021707  0.026134  0.027830   \n",
       "1 1961-12-31  Pesos  0.014144  0.024082  0.029302  0.031751   \n",
       "2 1962-12-31  Pesos  0.015288  0.024283  0.030303  0.033137   \n",
       "3 1963-12-31  Pesos  0.021007  0.030905  0.039715  0.043840   \n",
       "4 1964-12-31  Pesos  0.029565  0.044402  0.057836  0.063475   \n",
       "\n",
       "   GDP (current LCU)  CPI (Base Year 2016)  GDP (constant LCU)  Velocity of M2  \n",
       "0           0.166807          6.172503e-12        182932009390        6.382836  \n",
       "1           0.213136          7.426182e-12        192861271430        7.273797  \n",
       "2           0.253471          9.570257e-12        191218051890        8.364576  \n",
       "3           0.359472          1.201940e-11        181067821330        9.051316  \n",
       "4           0.481860          1.547793e-11        199410530600        8.331514  "
      ]
     },
     "execution_count": 27,
     "metadata": {},
     "output_type": "execute_result"
    }
   ],
   "source": [
    "df.head()"
   ]
  },
  {
   "cell_type": "code",
   "execution_count": 28,
   "metadata": {},
   "outputs": [
    {
     "data": {
      "image/png": "[encoded data removed]",
      "text/plain": [
       "<Figure size 600x300 with 1 Axes>"
      ]
     },
     "metadata": {},
     "output_type": "display_data"
    }
   ],
   "source": [
    "import matplotlib.pyplot as plt \n",
    "\n",
    "plt.figure(figsize=(6, 3))\n",
    "plt.title('Velocity of M2 1960 - 2022')\n",
    "plt.xlabel('Año')\n",
    "plt.ylabel('Velocity M2')\n",
    "\n",
    "plt.plot(df['Año'], df['Velocity of M2'], label='Velocity M2')\n",
    "\n",
    "plt.yscale(\"log\")  # Agrega la escala logarítmica al eje Y\n",
    "\n",
    "plt.legend()\n",
    "\n",
    "plt.grid(True)\n",
    "plt.tight_layout()\n",
    "plt.show()"
   ]
  },
  {
   "cell_type": "code",
   "execution_count": 29,
   "metadata": {},
   "outputs": [],
   "source": [
    "df.to_csv('csv_creados/df_infl.csv', index=False) #df_infl --> datos en términos absolutos"
   ]
  },
  {
   "cell_type": "markdown",
   "metadata": {},
   "source": [
    "#### Cremos otro Data Frame con las variables en tasas de variación anual"
   ]
  },
  {
   "cell_type": "markdown",
   "metadata": {},
   "source": [
    "m + v = p + q\n",
    " \n",
    "siendo:\n",
    "\n",
    "m = crecimiento de la oferta monetaria\n",
    "\n",
    "v = crecimiento de la velocidad del dinero\n",
    "\n",
    "p = inflación\n",
    "\n",
    "q = crecimiento del GDP real"
   ]
  },
  {
   "cell_type": "code",
   "execution_count": 30,
   "metadata": {},
   "outputs": [],
   "source": [
    "archivo = 'csv_creados/df_infl.csv'\n",
    "df_infl = pd.read_csv(archivo)"
   ]
  },
  {
   "cell_type": "code",
   "execution_count": 31,
   "metadata": {},
   "outputs": [],
   "source": [
    "df_infl_tva = df_infl.copy()\n",
    "for col in df_infl.columns[2:]:  # Excluye las columnas 'Año' y 'divisa'\n",
    "    df_infl_tva[col] = df_infl[col].pct_change()"
   ]
  },
  {
   "cell_type": "code",
   "execution_count": 32,
   "metadata": {},
   "outputs": [],
   "source": [
    "## Eliminamos la primera fila por no poder calcular su TVA\n",
    "df_infl_tva = df_infl_tva.iloc[1:]\n",
    "df_infl_tva.reset_index(drop=True, inplace=True)"
   ]
  },
  {
   "cell_type": "code",
   "execution_count": 33,
   "metadata": {},
   "outputs": [],
   "source": [
    "df_infl_tva.columns = ['Año', 'Divisa', 'M0_gr', 'M1_gr', 'M2_gr', 'M3_gr', 'GDP_gr', 'Inflation Rate', 'GDP_Real_gr', 'Velocity M2_gr']"
   ]
  },
  {
   "cell_type": "code",
   "execution_count": 37,
   "metadata": {},
   "outputs": [
    {
     "data": {
      "text/html": [
       "<div>\n",
       "<style scoped>\n",
       "    .dataframe tbody tr th:only-of-type {\n",
       "        vertical-align: middle;\n",
       "    }\n",
       "\n",
       "    .dataframe tbody tr th {\n",
       "        vertical-align: top;\n",
       "    }\n",
       "\n",
       "    .dataframe thead th {\n",
       "        text-align: right;\n",
       "    }\n",
       "</style>\n",
       "<table border=\"1\" class=\"dataframe\">\n",
       "  <thead>\n",
       "    <tr style=\"text-align: right;\">\n",
       "      <th></th>\n",
       "      <th>Año</th>\n",
       "      <th>Divisa</th>\n",
       "      <th>M0_gr</th>\n",
       "      <th>M1_gr</th>\n",
       "      <th>M2_gr</th>\n",
       "      <th>M3_gr</th>\n",
       "      <th>GDP_gr</th>\n",
       "      <th>Inflation Rate</th>\n",
       "      <th>GDP_Real_gr</th>\n",
       "      <th>Velocity M2_gr</th>\n",
       "    </tr>\n",
       "  </thead>\n",
       "  <tbody>\n",
       "    <tr>\n",
       "      <th>0</th>\n",
       "      <td>1961-12-31</td>\n",
       "      <td>Pesos</td>\n",
       "      <td>-0.015452</td>\n",
       "      <td>0.109421</td>\n",
       "      <td>0.121229</td>\n",
       "      <td>0.140866</td>\n",
       "      <td>0.277738</td>\n",
       "      <td>0.203107</td>\n",
       "      <td>0.054278</td>\n",
       "      <td>0.139587</td>\n",
       "    </tr>\n",
       "    <tr>\n",
       "      <th>1</th>\n",
       "      <td>1962-12-31</td>\n",
       "      <td>Pesos</td>\n",
       "      <td>0.080916</td>\n",
       "      <td>0.008348</td>\n",
       "      <td>0.034162</td>\n",
       "      <td>0.043666</td>\n",
       "      <td>0.189245</td>\n",
       "      <td>0.288718</td>\n",
       "      <td>-0.008520</td>\n",
       "      <td>0.149960</td>\n",
       "    </tr>\n",
       "    <tr>\n",
       "      <th>2</th>\n",
       "      <td>1963-12-31</td>\n",
       "      <td>Pesos</td>\n",
       "      <td>0.374048</td>\n",
       "      <td>0.272704</td>\n",
       "      <td>0.310597</td>\n",
       "      <td>0.322993</td>\n",
       "      <td>0.418199</td>\n",
       "      <td>0.255912</td>\n",
       "      <td>-0.053082</td>\n",
       "      <td>0.082101</td>\n",
       "    </tr>\n",
       "    <tr>\n",
       "      <th>3</th>\n",
       "      <td>1964-12-31</td>\n",
       "      <td>Pesos</td>\n",
       "      <td>0.407422</td>\n",
       "      <td>0.436742</td>\n",
       "      <td>0.456275</td>\n",
       "      <td>0.447860</td>\n",
       "      <td>0.340466</td>\n",
       "      <td>0.287746</td>\n",
       "      <td>0.101303</td>\n",
       "      <td>-0.079525</td>\n",
       "    </tr>\n",
       "    <tr>\n",
       "      <th>4</th>\n",
       "      <td>1965-12-31</td>\n",
       "      <td>Pesos</td>\n",
       "      <td>0.392356</td>\n",
       "      <td>0.250926</td>\n",
       "      <td>0.259297</td>\n",
       "      <td>0.275853</td>\n",
       "      <td>0.247748</td>\n",
       "      <td>0.212329</td>\n",
       "      <td>0.105694</td>\n",
       "      <td>-0.009170</td>\n",
       "    </tr>\n",
       "  </tbody>\n",
       "</table>\n",
       "</div>"
      ],
      "text/plain": [
       "          Año Divisa     M0_gr     M1_gr     M2_gr     M3_gr    GDP_gr  \\\n",
       "0  1961-12-31  Pesos -0.015452  0.109421  0.121229  0.140866  0.277738   \n",
       "1  1962-12-31  Pesos  0.080916  0.008348  0.034162  0.043666  0.189245   \n",
       "2  1963-12-31  Pesos  0.374048  0.272704  0.310597  0.322993  0.418199   \n",
       "3  1964-12-31  Pesos  0.407422  0.436742  0.456275  0.447860  0.340466   \n",
       "4  1965-12-31  Pesos  0.392356  0.250926  0.259297  0.275853  0.247748   \n",
       "\n",
       "   Inflation Rate  GDP_Real_gr  Velocity M2_gr  \n",
       "0        0.203107     0.054278        0.139587  \n",
       "1        0.288718    -0.008520        0.149960  \n",
       "2        0.255912    -0.053082        0.082101  \n",
       "3        0.287746     0.101303       -0.079525  \n",
       "4        0.212329     0.105694       -0.009170  "
      ]
     },
     "execution_count": 37,
     "metadata": {},
     "output_type": "execute_result"
    }
   ],
   "source": [
    "df_infl_tva.head()"
   ]
  },
  {
   "cell_type": "code",
   "execution_count": 35,
   "metadata": {},
   "outputs": [],
   "source": [
    "df_infl_tva.to_csv('csv_creados/df_infl_tva.csv',index=False) #df_infl --> datos en términos relativos"
   ]
  }
 ],
 "metadata": {
  "kernelspec": {
   "display_name": "Python 3",
   "language": "python",
   "name": "python3"
  },
  "language_info": {
   "codemirror_mode": {
    "name": "ipython",
    "version": 3
   },
   "file_extension": ".py",
   "mimetype": "text/x-python",
   "name": "python",
   "nbconvert_exporter": "python",
   "pygments_lexer": "ipython3",
   "version": "3.11.4"
  }
 },
 "nbformat": 4,
 "nbformat_minor": 2
}
