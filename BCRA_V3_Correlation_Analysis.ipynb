{
 "cells": [
  {
   "cell_type": "code",
   "execution_count": 12,
   "metadata": {},
   "outputs": [],
   "source": [
    "import pandas as pd\n",
    "import numpy as np\n"
   ]
  },
  {
   "cell_type": "code",
   "execution_count": 13,
   "metadata": {},
   "outputs": [],
   "source": [
    "archivo = 'csv_creados/df_infl_tva.csv'\n",
    "df_infl_tva = pd.read_csv(archivo)"
   ]
  },
  {
   "cell_type": "code",
   "execution_count": 14,
   "metadata": {},
   "outputs": [],
   "source": [
    "archivo = 'csv_creados/df_infl.csv'\n",
    "df_infl = pd.read_csv(archivo)"
   ]
  },
  {
   "cell_type": "code",
   "execution_count": 15,
   "metadata": {},
   "outputs": [
    {
     "data": {
      "text/html": [
       "<div>\n",
       "<style scoped>\n",
       "    .dataframe tbody tr th:only-of-type {\n",
       "        vertical-align: middle;\n",
       "    }\n",
       "\n",
       "    .dataframe tbody tr th {\n",
       "        vertical-align: top;\n",
       "    }\n",
       "\n",
       "    .dataframe thead th {\n",
       "        text-align: right;\n",
       "    }\n",
       "</style>\n",
       "<table border=\"1\" class=\"dataframe\">\n",
       "  <thead>\n",
       "    <tr style=\"text-align: right;\">\n",
       "      <th></th>\n",
       "      <th>Año</th>\n",
       "      <th>divisa</th>\n",
       "      <th>M0</th>\n",
       "      <th>M1</th>\n",
       "      <th>M2</th>\n",
       "      <th>M3</th>\n",
       "      <th>GDP (current LCU)</th>\n",
       "      <th>CPI (2016 = Base Yr)</th>\n",
       "      <th>GDP (constant LCU)</th>\n",
       "      <th>Velocity of M2</th>\n",
       "    </tr>\n",
       "  </thead>\n",
       "  <tbody>\n",
       "    <tr>\n",
       "      <th>0</th>\n",
       "      <td>1959-12-31</td>\n",
       "      <td>Pesos</td>\n",
       "      <td>0.011898</td>\n",
       "      <td>0.016804</td>\n",
       "      <td>0.020309</td>\n",
       "      <td>0.021351</td>\n",
       "      <td>0.131509</td>\n",
       "      <td>1.448536e-11</td>\n",
       "      <td>NaN</td>\n",
       "      <td>6.475506</td>\n",
       "    </tr>\n",
       "    <tr>\n",
       "      <th>1</th>\n",
       "      <td>1960-12-31</td>\n",
       "      <td>Pesos</td>\n",
       "      <td>0.014366</td>\n",
       "      <td>0.021707</td>\n",
       "      <td>0.026134</td>\n",
       "      <td>0.027830</td>\n",
       "      <td>0.166807</td>\n",
       "      <td>1.707203e-11</td>\n",
       "      <td>1.829320e+11</td>\n",
       "      <td>6.382836</td>\n",
       "    </tr>\n",
       "  </tbody>\n",
       "</table>\n",
       "</div>"
      ],
      "text/plain": [
       "          Año divisa        M0        M1        M2        M3  \\\n",
       "0  1959-12-31  Pesos  0.011898  0.016804  0.020309  0.021351   \n",
       "1  1960-12-31  Pesos  0.014366  0.021707  0.026134  0.027830   \n",
       "\n",
       "   GDP (current LCU)  CPI (2016 = Base Yr)  GDP (constant LCU)  Velocity of M2  \n",
       "0           0.131509          1.448536e-11                 NaN        6.475506  \n",
       "1           0.166807          1.707203e-11        1.829320e+11        6.382836  "
      ]
     },
     "execution_count": 15,
     "metadata": {},
     "output_type": "execute_result"
    }
   ],
   "source": [
    "df_infl.head(2) # Datos en términos absolutos"
   ]
  },
  {
   "cell_type": "code",
   "execution_count": 16,
   "metadata": {},
   "outputs": [
    {
     "data": {
      "text/html": [
       "<div>\n",
       "<style scoped>\n",
       "    .dataframe tbody tr th:only-of-type {\n",
       "        vertical-align: middle;\n",
       "    }\n",
       "\n",
       "    .dataframe tbody tr th {\n",
       "        vertical-align: top;\n",
       "    }\n",
       "\n",
       "    .dataframe thead th {\n",
       "        text-align: right;\n",
       "    }\n",
       "</style>\n",
       "<table border=\"1\" class=\"dataframe\">\n",
       "  <thead>\n",
       "    <tr style=\"text-align: right;\">\n",
       "      <th></th>\n",
       "      <th>Año</th>\n",
       "      <th>Divisa</th>\n",
       "      <th>M0_gr</th>\n",
       "      <th>M1_gr</th>\n",
       "      <th>M2_gr</th>\n",
       "      <th>M3_gr</th>\n",
       "      <th>GDP_gr</th>\n",
       "      <th>Inflation Rate</th>\n",
       "      <th>GDP_Real_gr</th>\n",
       "      <th>Velocity M2_gr</th>\n",
       "    </tr>\n",
       "  </thead>\n",
       "  <tbody>\n",
       "    <tr>\n",
       "      <th>0</th>\n",
       "      <td>1960-12-31</td>\n",
       "      <td>Pesos</td>\n",
       "      <td>0.207364</td>\n",
       "      <td>0.291750</td>\n",
       "      <td>0.286825</td>\n",
       "      <td>0.303500</td>\n",
       "      <td>0.268410</td>\n",
       "      <td>0.178571</td>\n",
       "      <td>NaN</td>\n",
       "      <td>-0.014311</td>\n",
       "    </tr>\n",
       "    <tr>\n",
       "      <th>1</th>\n",
       "      <td>1961-12-31</td>\n",
       "      <td>Pesos</td>\n",
       "      <td>-0.015452</td>\n",
       "      <td>0.109421</td>\n",
       "      <td>0.121229</td>\n",
       "      <td>0.140866</td>\n",
       "      <td>0.277738</td>\n",
       "      <td>0.333333</td>\n",
       "      <td>0.054278</td>\n",
       "      <td>0.139587</td>\n",
       "    </tr>\n",
       "  </tbody>\n",
       "</table>\n",
       "</div>"
      ],
      "text/plain": [
       "          Año Divisa     M0_gr     M1_gr     M2_gr     M3_gr    GDP_gr  \\\n",
       "0  1960-12-31  Pesos  0.207364  0.291750  0.286825  0.303500  0.268410   \n",
       "1  1961-12-31  Pesos -0.015452  0.109421  0.121229  0.140866  0.277738   \n",
       "\n",
       "   Inflation Rate  GDP_Real_gr  Velocity M2_gr  \n",
       "0        0.178571          NaN       -0.014311  \n",
       "1        0.333333     0.054278        0.139587  "
      ]
     },
     "execution_count": 16,
     "metadata": {},
     "output_type": "execute_result"
    }
   ],
   "source": [
    "df_infl_tva.head(2) # Datos en términos relativos"
   ]
  },
  {
   "cell_type": "markdown",
   "metadata": {},
   "source": [
    "#### Filtramos columnas ('Año', 'M2', 'CPI', 'GDP(constant)' y 'Velocity of M2')"
   ]
  },
  {
   "cell_type": "code",
   "execution_count": 17,
   "metadata": {},
   "outputs": [],
   "source": [
    "df_filtrado = df_infl [['Año','M2','CPI (2016 = Base Yr)','GDP (constant LCU)','Velocity of M2']]"
   ]
  },
  {
   "cell_type": "code",
   "execution_count": 19,
   "metadata": {},
   "outputs": [],
   "source": [
    "df_filtrado = df_filtrado.dropna()"
   ]
  },
  {
   "cell_type": "code",
   "execution_count": 20,
   "metadata": {},
   "outputs": [
    {
     "data": {
      "text/html": [
       "<div>\n",
       "<style scoped>\n",
       "    .dataframe tbody tr th:only-of-type {\n",
       "        vertical-align: middle;\n",
       "    }\n",
       "\n",
       "    .dataframe tbody tr th {\n",
       "        vertical-align: top;\n",
       "    }\n",
       "\n",
       "    .dataframe thead th {\n",
       "        text-align: right;\n",
       "    }\n",
       "</style>\n",
       "<table border=\"1\" class=\"dataframe\">\n",
       "  <thead>\n",
       "    <tr style=\"text-align: right;\">\n",
       "      <th></th>\n",
       "      <th>Año</th>\n",
       "      <th>M2</th>\n",
       "      <th>CPI (2016 = Base Yr)</th>\n",
       "      <th>GDP (constant LCU)</th>\n",
       "      <th>Velocity of M2</th>\n",
       "    </tr>\n",
       "  </thead>\n",
       "  <tbody>\n",
       "    <tr>\n",
       "      <th>1</th>\n",
       "      <td>1960-12-31</td>\n",
       "      <td>0.026134</td>\n",
       "      <td>1.707203e-11</td>\n",
       "      <td>1.829320e+11</td>\n",
       "      <td>6.382836</td>\n",
       "    </tr>\n",
       "    <tr>\n",
       "      <th>2</th>\n",
       "      <td>1961-12-31</td>\n",
       "      <td>0.029302</td>\n",
       "      <td>2.276270e-11</td>\n",
       "      <td>1.928613e+11</td>\n",
       "      <td>7.273797</td>\n",
       "    </tr>\n",
       "    <tr>\n",
       "      <th>3</th>\n",
       "      <td>1962-12-31</td>\n",
       "      <td>0.030303</td>\n",
       "      <td>2.897071e-11</td>\n",
       "      <td>1.912181e+11</td>\n",
       "      <td>8.364576</td>\n",
       "    </tr>\n",
       "  </tbody>\n",
       "</table>\n",
       "</div>"
      ],
      "text/plain": [
       "          Año        M2  CPI (2016 = Base Yr)  GDP (constant LCU)  \\\n",
       "1  1960-12-31  0.026134          1.707203e-11        1.829320e+11   \n",
       "2  1961-12-31  0.029302          2.276270e-11        1.928613e+11   \n",
       "3  1962-12-31  0.030303          2.897071e-11        1.912181e+11   \n",
       "\n",
       "   Velocity of M2  \n",
       "1        6.382836  \n",
       "2        7.273797  \n",
       "3        8.364576  "
      ]
     },
     "execution_count": 20,
     "metadata": {},
     "output_type": "execute_result"
    }
   ],
   "source": [
    "df_filtrado.head(3)"
   ]
  },
  {
   "cell_type": "code",
   "execution_count": 23,
   "metadata": {},
   "outputs": [
    {
     "name": "stdout",
     "output_type": "stream",
     "text": [
      "<class 'pandas.core.frame.DataFrame'>\n",
      "Index: 63 entries, 1 to 63\n",
      "Data columns (total 5 columns):\n",
      " #   Column                Non-Null Count  Dtype         \n",
      "---  ------                --------------  -----         \n",
      " 0   Año                   63 non-null     datetime64[ns]\n",
      " 1   M2                    63 non-null     float64       \n",
      " 2   CPI (2016 = Base Yr)  63 non-null     float64       \n",
      " 3   GDP (constant LCU)    63 non-null     float64       \n",
      " 4   Velocity of M2        63 non-null     float64       \n",
      "dtypes: datetime64[ns](1), float64(4)\n",
      "memory usage: 3.0 KB\n"
     ]
    }
   ],
   "source": [
    "df_filtrado.info()"
   ]
  },
  {
   "cell_type": "code",
   "execution_count": 22,
   "metadata": {},
   "outputs": [],
   "source": [
    "df_filtrado['Año'] = pd.to_datetime(df_filtrado['Año'])"
   ]
  },
  {
   "cell_type": "markdown",
   "metadata": {},
   "source": [
    "#### Gráficamos una matriz de correlación para las variables filtradas"
   ]
  },
  {
   "cell_type": "code",
   "execution_count": 24,
   "metadata": {},
   "outputs": [
    {
     "data": {
      "image/png": "[encoded data removed]",
      "text/plain": [
       "<Figure size 1000x600 with 2 Axes>"
      ]
     },
     "metadata": {},
     "output_type": "display_data"
    }
   ],
   "source": [
    "import matplotlib.pyplot as plt\n",
    "import seaborn as sns\n",
    "# Mapa de calor para las correlaciones entre variables numéricas\n",
    "numerical_columns = ['M2','CPI (2016 = Base Yr)','GDP (constant LCU)','Velocity of M2']\n",
    "correlation_matrix = df_filtrado[numerical_columns].corr()\n",
    "\n",
    "plt.figure(figsize=(10, 6))\n",
    "sns.heatmap(correlation_matrix, annot=True, cmap='coolwarm')\n",
    "plt.title('Heatmap: Correlation Matrix')\n",
    "plt.show()\n"
   ]
  },
  {
   "cell_type": "markdown",
   "metadata": {},
   "source": [
    "Se denota una correlacion entre M2 y CPI --> 0.99\n",
    "\n",
    "La correlación entre el 'CPI' y el 'GDP (constant LCU)' deberia ser negativa, ya que aumentos en la producción son deflaccionarios 'ceteris paribus' --> es importante tener en cuenta el efecto que tienen las demás variables en el CPI (variable que se intenta explicar) --> la mejor opcion es analizarlo en conjunto.\n"
   ]
  },
  {
   "cell_type": "markdown",
   "metadata": {},
   "source": [
    "<!-- Año GDP_gr\tCPI_gr\tVelocity_M2_gr                             # Realtiva\n",
    "Año GDP (current LCU)\tCPI (2016 = Base Yr)\tVelocity of M2 # ABS -->"
   ]
  },
  {
   "cell_type": "markdown",
   "metadata": {},
   "source": [
    "<!-- df_excel = pd.read_excel('Data_in\\GDP_Real_Argentina.xls')\n",
    "df = df.merge(df_excel, on='Año', how='left') -->"
   ]
  }
 ],
 "metadata": {
  "kernelspec": {
   "display_name": "Python 3",
   "language": "python",
   "name": "python3"
  },
  "language_info": {
   "codemirror_mode": {
    "name": "ipython",
    "version": 3
   },
   "file_extension": ".py",
   "mimetype": "text/x-python",
   "name": "python",
   "nbconvert_exporter": "python",
   "pygments_lexer": "ipython3",
   "version": "3.11.4"
  }
 },
 "nbformat": 4,
 "nbformat_minor": 2
}
